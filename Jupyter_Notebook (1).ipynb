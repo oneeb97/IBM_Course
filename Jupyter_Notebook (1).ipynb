{
 "cells": [
  {
   "cell_type": "markdown",
   "metadata": {},
   "source": [
    "<center>\n",
    "    <img src=\"https://cf-courses-data.s3.us.cloud-object-storage.appdomain.cloud/IBMDeveloperSkillsNetwork-DS0105EN-SkillsNetwork/labs/Module2/images/SN_web_lightmode.png\" width=\"300\" alt=\"cognitiveclass.ai logo\">\n",
    "</center>\n"
   ]
  },
  {
   "cell_type": "markdown",
   "metadata": {},
   "source": [
    "#### Add your code below following the instructions given in the course\n"
   ]
  },
  {
   "cell_type": "markdown",
   "metadata": {},
   "source": [
    "# My Jupyter Notebook on IBM Watson Studio"
   ]
  },
  {
   "cell_type": "markdown",
   "metadata": {},
   "source": [
    "**Mohammad Farooq**\n",
    "\n",
    "AI/ML Scientist"
   ]
  },
  {
   "cell_type": "markdown",
   "metadata": {},
   "source": [
    "*I am interested in data science because I've always loved working with data in multiple facets of the world. The idea of doing something so simple as just pooling data together to analyze, even for no reason other than to learn more about the topic, has always given me a sense of satisfaction. The concept of AI has fascinated me enough for me to make a career shift towards the field and seeing the new developments in AI that we see today are extremely intriguing to me and I hope that I can one day contribute to the amazing successes that we're seeing in the AI world.*"
   ]
  },
  {
   "cell_type": "markdown",
   "metadata": {},
   "source": [
    "### The code in Cell 5 is supposed to first ask \"Hello?\" and then print \"Howdy! Don't Mess with Texas\" when you say \"hello\""
   ]
  },
  {
   "cell_type": "code",
   "execution_count": 5,
   "metadata": {},
   "outputs": [
    {
     "name": "stdin",
     "output_type": "stream",
     "text": [
      "Hello?  hello\n"
     ]
    },
    {
     "name": "stdout",
     "output_type": "stream",
     "text": [
      "Howdy! Don't Mess with Texas\n"
     ]
    }
   ],
   "source": [
    "input_text = input(\"Hello? \")\n",
    "if input_text == \"hello\":\n",
    "    print(\"Howdy! Don't Mess with Texas\")"
   ]
  },
  {
   "attachments": {
    "deb0dfff-2cfc-40cc-b303-63f84b2775c9.jpg": {
     "image/jpeg": "[encoded data removed]"
    }
   },
   "cell_type": "markdown",
   "metadata": {},
   "source": [
    "#### A few takeaways for us:\n",
    "1. This was an enjoyable course.\n",
    "1. I hope we all achieve what we're working towards.\n",
    "1. Never stop learning!\n",
    "***\n",
    "***\n",
    "![download.jpg](attachment:deb0dfff-2cfc-40cc-b303-63f84b2775c9.jpg)\n",
    "***\n",
    "***\n",
    "Interested in what IBM says about Data Science? Click here:\n",
    "__[What is Data Science? - IBM](https://www.ibm.com/topics/data-science)__\n",
    "***\n",
    "*Some jobs in Data Science*\n",
    "- Data Scientist\n",
    "- AI/ML Scientist\n",
    "- Data Engineer\n",
    "- Enterprise Architect"
   ]
  }
 ],
 "metadata": {
  "kernelspec": {
   "display_name": "Python",
   "language": "python",
   "name": "conda-env-python-py"
  },
  "language_info": {
   "codemirror_mode": {
    "name": "ipython",
    "version": 3
   },
   "file_extension": ".py",
   "mimetype": "text/x-python",
   "name": "python",
   "nbconvert_exporter": "python",
   "pygments_lexer": "ipython3",
   "version": "3.7.12"
  }
 },
 "nbformat": 4,
 "nbformat_minor": 4
}
